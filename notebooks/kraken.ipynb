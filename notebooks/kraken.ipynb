{
 "metadata": {
  "name": "",
  "signature": "sha256:4359cc7d2281c0abc72356e35eb921bdb3bf886f0c079d739c5949d5bdc64bd8"
 },
 "nbformat": 3,
 "nbformat_minor": 0,
 "worksheets": [
  {
   "cells": [
    {
     "cell_type": "markdown",
     "metadata": {},
     "source": [
      "# Metagenomic Assembly - Assessing Chimericity in Contigs with Kraken\n",
      "In de novo metagenomic assembly it is possible that different genomes end up getting mixed in one contig, because they are so similar. How likely is this to occur?\n",
      "\n",
      "[Kraken](https://github.com/DerrickWood/kraken) performs taxonomic classification using kmers. You can build a database of your own references in fasta format as long as they have a GI number. Here we will use Kraken to determine where the kmers in a wrongly assembled contig are coming from. \n",
      "\n",
      "Starting data:\n",
      "- 52 reference genomes\n",
      "- Velvet assembly with kmer=31 and no scaffolding using only Illumina paired reads that align to those 52 genomes\n",
      "\n",
      "## Installing Kraken\n",
      "This went pretty smoothly. I just cloned the repository and ran the installation script. Then copied the binaries to my home dir which is in my ``$PATH`` variable.\n",
      "\n",
      "```\n",
      "$ cd ~/src\n",
      "$ git clone https://github.com/DerrickWood/kraken\n",
      "$ ./install_kraken.sh ../kraken-install\n",
      "$ cd ../kraken-install\n",
      "$ cp kraken kraken-build ~/bin\n",
      "$ kraken --version\n",
      "Kraken version 0.10.5-beta\n",
      "Copyright 2013-2014, Derrick Wood (dwood@cs.umd.edu)\n",
      "```\n",
      "\n",
      "For your own database you need to install jellyfish 1, which luckily was already installed on our server:\n",
      "```\n",
      "$ module load bioinfo-tools\n",
      "$ module load jellyfish/1.1.11\n",
      "```\n",
      "\n",
      "## Building the database of the references\n",
      "\n",
      "### Getting GI numbers for the genomes you are interested in\n",
      "The reference fasta file of the 52 genomes that I had unfortunately did not contain the [GI number](http://www.ncbi.nlm.nih.gov/Sitemap/sequenceIDs.html) of NCBI, which is necessary for Kraken. It did contain some fairly descriptive names that could be used to query NCBI. Therefore I used those names to retrieve a ``original_name,gi_number`` csv file:\n",
      "\n",
      "```\n",
      "for g in $(grep '^>' ../Mircea_07102013_selected_refs.fasta | sed 's/>//')\n",
      "do \n",
      "    specific_g=$(echo $g | sed 's/tokodaii/tokodaii_str_7/' | sed 's/SulfuriYO3AOP1/Sulfuri_YO3AOP1/' | sed 's/_/+/g')\n",
      "    echo $g,$(\n",
      "        curl -sg 'http://www.ncbi.nlm.nih.gov/nuccore/?term=%28'$specific_g'+%29+AND+%22ddbj+embl+genbank%22[Filter]' | \n",
      "        grep -o -e '\\(complete genome\\|, whole genome shotgun sequencing project\\|chromosome 1, complete sequence\\|S2, complete sequence\\)\\(.\\)\\{500\\}' | \n",
      "        grep -o --color=always -e 'nuccore/.*report=genbank' -m1 | \n",
      "        cut -f2 -d'/'  | cut -f1 -d'?'\n",
      "     )\n",
      "done > rename-fasta-ids.csv\n",
      "```\n",
      "\n",
      "Kudos if you can decipher that! We iterate over all the reference names in the fastafile. The first line in the loop changes some reference names so they actually give a result while searching NCBI - no love for corner cases. Then all the names in the fasta file contained underscores instead of spaces so I changed that to a ``+`` which is the character NCBI uses for a space in a query. NCBI is queried using the result. A grep expression is used to search for complete genomes in the retrieved HTML - again a bunch of corner case killed a simple generalization - and the GI id is obtained after cutting out the other text.\n",
      "\n",
      "After that I used [this](https://github.com/inodb/biorhino-tools/blob/92a5da5719804261fb55aa6c3e22a20774af78a0/scripts/br-fasta-replace-ids.py) script to replace the fasta ids.\n",
      "\n",
      "```\n",
      "br-fasta-replace-ids.py rename-fasta-ids.csv ../Mircea_07102013_selected_refs.fasta -d, > Mircea_07102013_selected_refs_gi.fasta\n",
      "```\n",
      "\n",
      "### Actually performing the build commands\n",
      "```\n",
      "kraken-build --download-taxonomy --db Mircea_07102013_selected_refs\n",
      "kraken-build --add-to-library Mircea_07102013_selected_refs_gi.fasta --db Mircea_07102013_selected_refs\n",
      "kraken-build --build --kmer-len 31 --db Mircea_07102013_selected_refs\n",
      "```\n",
      "\n",
      "## Classifying\n",
      "After the database is built, classifying the assembly was easy and went really fast:\n",
      "```\n",
      "kraken --threads 16 ma-contigs-velvetnoscaf31.fa --db Mircea_07102013_selected_refs > ma-contigs-velvetnoscaf31-kraken.tsv\n",
      "```\n",
      "\n",
      "The resulting file has the following format:\n",
      "\n",
      "```\n",
      "OUTPUT FORMAT\n",
      "=============\n",
      "\n",
      "Each sequence classified by Kraken results in a single line of\n",
      "output.  Output lines contain five tab-delimited fields; from\n",
      "left to right, they are:\n",
      "\n",
      "  1) \"C\"/\"U\": one letter code indicating that the sequence was\n",
      "     either classified or unclassified.\n",
      "  2) The sequence ID, obtained from the FASTA/FASTQ header.\n",
      "  3) The taxonomy ID Kraken used to label the sequence; this is\n",
      "     0 if the sequence is unclassified.\n",
      "  4) The length of the sequence in bp.\n",
      "  5) A space-delimited list indicating the LCA mapping of each k-mer\n",
      "     in the sequence.  For example, \"562:13 561:4 A:31 0:1 562:3\"\n",
      "     would indicate that:\n",
      "     - the first 13 k-mers mapped to taxonomy ID #562\n",
      "     - the next 4 k-mers mapped to taxonomy ID #561\n",
      "     - the next 31 k-mers contained an ambiguous nucleotide\n",
      "     - the next k-mer was not in the database\n",
      "     - the last 3 k-mers mapped to taxonomy ID #562\n",
      "```\n",
      "\n",
      "## The fun part\n",
      "So now that we know for each contig where each kmers come from we can have some fun plotting the results.\n",
      "\n",
      "### Import Kraken taxonomy file for tax_id to rank mappings"
     ]
    },
    {
     "cell_type": "code",
     "collapsed": false,
     "input": [
      "import pandas as pd"
     ],
     "language": "python",
     "metadata": {},
     "outputs": [],
     "prompt_number": 1
    },
    {
     "cell_type": "code",
     "collapsed": false,
     "input": [
      "def strip(text):\n",
      "    try:\n",
      "        return text.strip()\n",
      "    except AttributeError:\n",
      "        return text\n",
      "\n",
      "nodes = pd.read_csv(\"/media/milou/glob/src/kraken-install/databases/Mircea_07102013_selected_refs/taxonomy/nodes.dmp\", sep=\"|\", \n",
      "                    skipinitialspace=True, index_col=False,\n",
      "                    names=[\"tax_id\",\"parent_tax_id\",\"rank\",\"embl_code\",\n",
      "                           \"division_id\",\"inherited_div_flag\",\"genetic_code_id\",\n",
      "                           \"inherited_GC_flag\", \"mitochondrial genetic_code_id\",\n",
      "                           \"inherited_MGC_flag\", \"Genbank_hidden_flag\",\"hidden_subtree_flag\",\n",
      "                           \"comments\"],\n",
      "                    converters={\"parent_tax_id\":strip,\"rank\":strip,\"embl_code\":strip})"
     ],
     "language": "python",
     "metadata": {},
     "outputs": [],
     "prompt_number": 60
    },
    {
     "cell_type": "code",
     "collapsed": false,
     "input": [
      "nodes.head()"
     ],
     "language": "python",
     "metadata": {},
     "outputs": [
      {
       "html": [
        "<div style=\"max-height:1000px;max-width:1500px;overflow:auto;\">\n",
        "<table border=\"1\" class=\"dataframe\">\n",
        "  <thead>\n",
        "    <tr style=\"text-align: right;\">\n",
        "      <th></th>\n",
        "      <th>tax_id</th>\n",
        "      <th>parent_tax_id</th>\n",
        "      <th>rank</th>\n",
        "      <th>embl_code</th>\n",
        "      <th>division_id</th>\n",
        "      <th>inherited_div_flag</th>\n",
        "      <th>genetic_code_id</th>\n",
        "      <th>inherited_GC_flag</th>\n",
        "      <th>mitochondrial genetic_code_id</th>\n",
        "      <th>inherited_MGC_flag</th>\n",
        "      <th>Genbank_hidden_flag</th>\n",
        "      <th>hidden_subtree_flag</th>\n",
        "      <th>comments</th>\n",
        "    </tr>\n",
        "  </thead>\n",
        "  <tbody>\n",
        "    <tr>\n",
        "      <th>0</th>\n",
        "      <td> 1</td>\n",
        "      <td>      1</td>\n",
        "      <td>      no rank</td>\n",
        "      <td>   </td>\n",
        "      <td> 8</td>\n",
        "      <td> 0</td>\n",
        "      <td>  1</td>\n",
        "      <td> 0</td>\n",
        "      <td> 0</td>\n",
        "      <td> 0</td>\n",
        "      <td> 0</td>\n",
        "      <td> 0</td>\n",
        "      <td> \\t\\t</td>\n",
        "    </tr>\n",
        "    <tr>\n",
        "      <th>1</th>\n",
        "      <td> 2</td>\n",
        "      <td> 131567</td>\n",
        "      <td> superkingdom</td>\n",
        "      <td>   </td>\n",
        "      <td> 0</td>\n",
        "      <td> 0</td>\n",
        "      <td> 11</td>\n",
        "      <td> 0</td>\n",
        "      <td> 0</td>\n",
        "      <td> 0</td>\n",
        "      <td> 0</td>\n",
        "      <td> 0</td>\n",
        "      <td> \\t\\t</td>\n",
        "    </tr>\n",
        "    <tr>\n",
        "      <th>2</th>\n",
        "      <td> 6</td>\n",
        "      <td> 335928</td>\n",
        "      <td>        genus</td>\n",
        "      <td>   </td>\n",
        "      <td> 0</td>\n",
        "      <td> 1</td>\n",
        "      <td> 11</td>\n",
        "      <td> 1</td>\n",
        "      <td> 0</td>\n",
        "      <td> 1</td>\n",
        "      <td> 0</td>\n",
        "      <td> 0</td>\n",
        "      <td> \\t\\t</td>\n",
        "    </tr>\n",
        "    <tr>\n",
        "      <th>3</th>\n",
        "      <td> 7</td>\n",
        "      <td>      6</td>\n",
        "      <td>      species</td>\n",
        "      <td> AC</td>\n",
        "      <td> 0</td>\n",
        "      <td> 1</td>\n",
        "      <td> 11</td>\n",
        "      <td> 1</td>\n",
        "      <td> 0</td>\n",
        "      <td> 1</td>\n",
        "      <td> 1</td>\n",
        "      <td> 0</td>\n",
        "      <td> \\t\\t</td>\n",
        "    </tr>\n",
        "    <tr>\n",
        "      <th>4</th>\n",
        "      <td> 9</td>\n",
        "      <td>  32199</td>\n",
        "      <td>      species</td>\n",
        "      <td> BA</td>\n",
        "      <td> 0</td>\n",
        "      <td> 1</td>\n",
        "      <td> 11</td>\n",
        "      <td> 1</td>\n",
        "      <td> 0</td>\n",
        "      <td> 1</td>\n",
        "      <td> 1</td>\n",
        "      <td> 0</td>\n",
        "      <td> \\t\\t</td>\n",
        "    </tr>\n",
        "  </tbody>\n",
        "</table>\n",
        "<p>5 rows \u00d7 13 columns</p>\n",
        "</div>"
       ],
       "metadata": {},
       "output_type": "pyout",
       "prompt_number": 61,
       "text": [
        "   tax_id parent_tax_id          rank embl_code  division_id  \\\n",
        "0       1             1       no rank                      8   \n",
        "1       2        131567  superkingdom                      0   \n",
        "2       6        335928         genus                      0   \n",
        "3       7             6       species        AC            0   \n",
        "4       9         32199       species        BA            0   \n",
        "\n",
        "   inherited_div_flag  genetic_code_id  inherited_GC_flag  \\\n",
        "0                   0                1                  0   \n",
        "1                   0               11                  0   \n",
        "2                   1               11                  1   \n",
        "3                   1               11                  1   \n",
        "4                   1               11                  1   \n",
        "\n",
        "   mitochondrial genetic_code_id  inherited_MGC_flag  Genbank_hidden_flag  \\\n",
        "0                              0                   0                    0   \n",
        "1                              0                   0                    0   \n",
        "2                              0                   1                    0   \n",
        "3                              0                   1                    1   \n",
        "4                              0                   1                    1   \n",
        "\n",
        "   hidden_subtree_flag comments  \n",
        "0                    0     \\t\\t  \n",
        "1                    0     \\t\\t  \n",
        "2                    0     \\t\\t  \n",
        "3                    0     \\t\\t  \n",
        "4                    0     \\t\\t  \n",
        "\n",
        "[5 rows x 13 columns]"
       ]
      }
     ],
     "prompt_number": 61
    },
    {
     "cell_type": "code",
     "collapsed": false,
     "input": [
      "pd.unique(nodes[\"rank\"])"
     ],
     "language": "python",
     "metadata": {},
     "outputs": [
      {
       "metadata": {},
       "output_type": "pyout",
       "prompt_number": 91,
       "text": [
        "array(['no rank', 'superkingdom', 'genus', 'species', 'order', 'family',\n",
        "       'subspecies', 'subfamily', 'tribe', 'phylum', 'class', 'forma',\n",
        "       'suborder', 'superclass', 'subclass', 'varietas', 'kingdom',\n",
        "       'superfamily', 'infraorder', 'subphylum', 'infraclass',\n",
        "       'superorder', 'subgenus', 'parvorder', 'superphylum',\n",
        "       'species group', 'species subgroup', 'subtribe', 'subkingdom'], dtype=object)"
       ]
      }
     ],
     "prompt_number": 91
    },
    {
     "cell_type": "markdown",
     "metadata": {},
     "source": [
      "### Import Kraken output"
     ]
    },
    {
     "cell_type": "code",
     "collapsed": false,
     "input": [
      "def list_it(text):\n",
      "    return [(int(c[0]), int(c[1])) for c in [s.split(':') for s in text.split()]]\n",
      "\n",
      "kraken = pd.read_csv(\"/media/milou/glob/projects/masmvali-partdeux/reassembly-filtered-reads/Sample_1ng_even/kraken/ma-contigs-velvetnoscaf31-kraken.tsv\", sep=\"\\t\",\n",
      "                     true_values=[\"C\"], false_values=[\"U\"],\n",
      "                    names=[\"classified\",\"seq_id\",\"tax_id\",\"length\",\"lca\"],\n",
      "                    converters={\"lca\":list_it})"
     ],
     "language": "python",
     "metadata": {},
     "outputs": [],
     "prompt_number": 152
    },
    {
     "cell_type": "code",
     "collapsed": false,
     "input": [
      "kraken.head()"
     ],
     "language": "python",
     "metadata": {},
     "outputs": [
      {
       "html": [
        "<div style=\"max-height:1000px;max-width:1500px;overflow:auto;\">\n",
        "<table border=\"1\" class=\"dataframe\">\n",
        "  <thead>\n",
        "    <tr style=\"text-align: right;\">\n",
        "      <th></th>\n",
        "      <th>classified</th>\n",
        "      <th>seq_id</th>\n",
        "      <th>tax_id</th>\n",
        "      <th>length</th>\n",
        "      <th>lca</th>\n",
        "    </tr>\n",
        "  </thead>\n",
        "  <tbody>\n",
        "    <tr>\n",
        "      <th>0</th>\n",
        "      <td> True</td>\n",
        "      <td> NODE_1_length_4050_cov_8.365432</td>\n",
        "      <td> 395495</td>\n",
        "      <td> 4080</td>\n",
        "      <td> [(395495, 4050)]</td>\n",
        "    </tr>\n",
        "    <tr>\n",
        "      <th>1</th>\n",
        "      <td> True</td>\n",
        "      <td>   NODE_2_length_84_cov_2.071429</td>\n",
        "      <td> 436114</td>\n",
        "      <td>  114</td>\n",
        "      <td>   [(436114, 84)]</td>\n",
        "    </tr>\n",
        "    <tr>\n",
        "      <th>2</th>\n",
        "      <td> True</td>\n",
        "      <td>  NODE_3_length_532_cov_4.377820</td>\n",
        "      <td> 436114</td>\n",
        "      <td>  562</td>\n",
        "      <td>  [(436114, 532)]</td>\n",
        "    </tr>\n",
        "    <tr>\n",
        "      <th>3</th>\n",
        "      <td> True</td>\n",
        "      <td>  NODE_4_length_336_cov_9.851191</td>\n",
        "      <td> 395495</td>\n",
        "      <td>  366</td>\n",
        "      <td>  [(395495, 336)]</td>\n",
        "    </tr>\n",
        "    <tr>\n",
        "      <th>4</th>\n",
        "      <td> True</td>\n",
        "      <td>  NODE_5_length_217_cov_7.797235</td>\n",
        "      <td> 395495</td>\n",
        "      <td>  247</td>\n",
        "      <td>  [(395495, 217)]</td>\n",
        "    </tr>\n",
        "  </tbody>\n",
        "</table>\n",
        "<p>5 rows \u00d7 5 columns</p>\n",
        "</div>"
       ],
       "metadata": {},
       "output_type": "pyout",
       "prompt_number": 154,
       "text": [
        "  classified                           seq_id  tax_id  length  \\\n",
        "0       True  NODE_1_length_4050_cov_8.365432  395495    4080   \n",
        "1       True    NODE_2_length_84_cov_2.071429  436114     114   \n",
        "2       True   NODE_3_length_532_cov_4.377820  436114     562   \n",
        "3       True   NODE_4_length_336_cov_9.851191  395495     366   \n",
        "4       True   NODE_5_length_217_cov_7.797235  395495     247   \n",
        "\n",
        "                lca  \n",
        "0  [(395495, 4050)]  \n",
        "1    [(436114, 84)]  \n",
        "2   [(436114, 532)]  \n",
        "3   [(395495, 336)]  \n",
        "4   [(395495, 217)]  \n",
        "\n",
        "[5 rows x 5 columns]"
       ]
      }
     ],
     "prompt_number": 154
    },
    {
     "cell_type": "markdown",
     "metadata": {},
     "source": [
      "All sequences larger than 500 are classified"
     ]
    },
    {
     "cell_type": "code",
     "collapsed": false,
     "input": [
      "kraken[kraken.length > 500].classified.value_counts()"
     ],
     "language": "python",
     "metadata": {},
     "outputs": [
      {
       "metadata": {},
       "output_type": "pyout",
       "prompt_number": 23,
       "text": [
        "True    54467\n",
        "dtype: int64"
       ]
      }
     ],
     "prompt_number": 23
    },
    {
     "cell_type": "markdown",
     "metadata": {},
     "source": [
      "Now let's find out what rank the lca is for each wrong kmer in each contig (too slow right now)"
     ]
    },
    {
     "cell_type": "code",
     "collapsed": false,
     "input": [
      "def rank_lca(row):\n",
      "    return [(nodes[nodes.tax_id ==  tid][\"rank\"].values[0], row.lca[tid]) if tid != row.tax_id else (\"strain\", row.lca[tid]) for tid in row.lca]\n",
      "\n",
      "def df_rank_lca(row):\n",
      "    ranks = list(pd.unique(nodes[\"rank\"])) + [\"strain\",\"non-existent\"]\n",
      "    result = {rank:0 for rank in ranks}\n",
      "    for (tid, count) in row.lca:\n",
      "        if tid == 0:\n",
      "            result[\"non-existent\"] += count\n",
      "        elif tid != row.tax_id:\n",
      "            result[nodes[nodes.tax_id ==  tid][\"rank\"].values[0]] += count\n",
      "        else:\n",
      "            result[\"strain\"] += count\n",
      "        \n",
      "    return pd.Series(result)\n",
      "\n",
      "%time result = kraken[kraken.length > 500].apply(df_rank_lca, axis=1)\n",
      "result.head()"
     ],
     "language": "python",
     "metadata": {},
     "outputs": [
      {
       "html": [
        "<div style=\"max-height:1000px;max-width:1500px;overflow:auto;\">\n",
        "<table border=\"1\" class=\"dataframe\">\n",
        "  <thead>\n",
        "    <tr style=\"text-align: right;\">\n",
        "      <th></th>\n",
        "      <th>class</th>\n",
        "      <th>family</th>\n",
        "      <th>forma</th>\n",
        "      <th>genus</th>\n",
        "      <th>infraclass</th>\n",
        "      <th>infraorder</th>\n",
        "      <th>kingdom</th>\n",
        "      <th>no rank</th>\n",
        "      <th>non-existent</th>\n",
        "      <th>order</th>\n",
        "      <th>parvorder</th>\n",
        "      <th>phylum</th>\n",
        "      <th>species</th>\n",
        "      <th>species group</th>\n",
        "      <th>species subgroup</th>\n",
        "      <th>strain</th>\n",
        "      <th>subclass</th>\n",
        "      <th>subfamily</th>\n",
        "      <th>subgenus</th>\n",
        "      <th>subkingdom</th>\n",
        "      <th></th>\n",
        "    </tr>\n",
        "  </thead>\n",
        "  <tbody>\n",
        "    <tr>\n",
        "      <th>14316 </th>\n",
        "      <td> 0</td>\n",
        "      <td> 0</td>\n",
        "      <td> 0</td>\n",
        "      <td> 0</td>\n",
        "      <td> 0</td>\n",
        "      <td> 0</td>\n",
        "      <td> 0</td>\n",
        "      <td> 0</td>\n",
        "      <td>  0</td>\n",
        "      <td> 0</td>\n",
        "      <td> 0</td>\n",
        "      <td> 0</td>\n",
        "      <td> 0</td>\n",
        "      <td> 0</td>\n",
        "      <td> 0</td>\n",
        "      <td> 54117</td>\n",
        "      <td> 0</td>\n",
        "      <td> 0</td>\n",
        "      <td> 0</td>\n",
        "      <td> 0</td>\n",
        "      <td>...</td>\n",
        "    </tr>\n",
        "    <tr>\n",
        "      <th>33063 </th>\n",
        "      <td> 0</td>\n",
        "      <td> 0</td>\n",
        "      <td> 0</td>\n",
        "      <td> 0</td>\n",
        "      <td> 0</td>\n",
        "      <td> 0</td>\n",
        "      <td> 0</td>\n",
        "      <td> 0</td>\n",
        "      <td> 62</td>\n",
        "      <td> 0</td>\n",
        "      <td> 0</td>\n",
        "      <td> 0</td>\n",
        "      <td> 0</td>\n",
        "      <td> 0</td>\n",
        "      <td> 0</td>\n",
        "      <td> 53541</td>\n",
        "      <td> 0</td>\n",
        "      <td> 0</td>\n",
        "      <td> 0</td>\n",
        "      <td> 0</td>\n",
        "      <td>...</td>\n",
        "    </tr>\n",
        "    <tr>\n",
        "      <th>42327 </th>\n",
        "      <td> 0</td>\n",
        "      <td> 0</td>\n",
        "      <td> 0</td>\n",
        "      <td> 0</td>\n",
        "      <td> 0</td>\n",
        "      <td> 0</td>\n",
        "      <td> 0</td>\n",
        "      <td> 0</td>\n",
        "      <td> 90</td>\n",
        "      <td> 0</td>\n",
        "      <td> 0</td>\n",
        "      <td> 0</td>\n",
        "      <td> 0</td>\n",
        "      <td> 0</td>\n",
        "      <td> 0</td>\n",
        "      <td> 66552</td>\n",
        "      <td> 0</td>\n",
        "      <td> 0</td>\n",
        "      <td> 0</td>\n",
        "      <td> 0</td>\n",
        "      <td>...</td>\n",
        "    </tr>\n",
        "    <tr>\n",
        "      <th>43511 </th>\n",
        "      <td> 0</td>\n",
        "      <td> 0</td>\n",
        "      <td> 0</td>\n",
        "      <td> 0</td>\n",
        "      <td> 0</td>\n",
        "      <td> 0</td>\n",
        "      <td> 0</td>\n",
        "      <td> 0</td>\n",
        "      <td>  0</td>\n",
        "      <td> 0</td>\n",
        "      <td> 0</td>\n",
        "      <td> 0</td>\n",
        "      <td> 0</td>\n",
        "      <td> 0</td>\n",
        "      <td> 0</td>\n",
        "      <td> 56783</td>\n",
        "      <td> 0</td>\n",
        "      <td> 0</td>\n",
        "      <td> 0</td>\n",
        "      <td> 0</td>\n",
        "      <td>...</td>\n",
        "    </tr>\n",
        "    <tr>\n",
        "      <th>202248</th>\n",
        "      <td> 0</td>\n",
        "      <td> 0</td>\n",
        "      <td> 0</td>\n",
        "      <td> 0</td>\n",
        "      <td> 0</td>\n",
        "      <td> 0</td>\n",
        "      <td> 0</td>\n",
        "      <td> 0</td>\n",
        "      <td> 61</td>\n",
        "      <td> 0</td>\n",
        "      <td> 0</td>\n",
        "      <td> 0</td>\n",
        "      <td> 0</td>\n",
        "      <td> 0</td>\n",
        "      <td> 0</td>\n",
        "      <td> 60540</td>\n",
        "      <td> 0</td>\n",
        "      <td> 0</td>\n",
        "      <td> 0</td>\n",
        "      <td> 0</td>\n",
        "      <td>...</td>\n",
        "    </tr>\n",
        "  </tbody>\n",
        "</table>\n",
        "<p>5 rows \u00d7 31 columns</p>\n",
        "</div>"
       ],
       "metadata": {},
       "output_type": "pyout",
       "prompt_number": 197,
       "text": [
        "        class  family  forma  genus  infraclass  infraorder  kingdom  no rank  \\\n",
        "14316       0       0      0      0           0           0        0        0   \n",
        "33063       0       0      0      0           0           0        0        0   \n",
        "42327       0       0      0      0           0           0        0        0   \n",
        "43511       0       0      0      0           0           0        0        0   \n",
        "202248      0       0      0      0           0           0        0        0   \n",
        "\n",
        "        non-existent  order  parvorder  phylum  species  species group  \\\n",
        "14316              0      0          0       0        0              0   \n",
        "33063             62      0          0       0        0              0   \n",
        "42327             90      0          0       0        0              0   \n",
        "43511              0      0          0       0        0              0   \n",
        "202248            61      0          0       0        0              0   \n",
        "\n",
        "        species subgroup  strain  subclass  subfamily  subgenus  subkingdom  \\\n",
        "14316                  0   54117         0          0         0           0   \n",
        "33063                  0   53541         0          0         0           0   \n",
        "42327                  0   66552         0          0         0           0   \n",
        "43511                  0   56783         0          0         0           0   \n",
        "202248                 0   60540         0          0         0           0   \n",
        "\n",
        "            \n",
        "14316  ...  \n",
        "33063  ...  \n",
        "42327  ...  \n",
        "43511  ...  \n",
        "202248 ...  \n",
        "\n",
        "[5 rows x 31 columns]"
       ]
      }
     ],
     "prompt_number": 197
    },
    {
     "cell_type": "code",
     "collapsed": false,
     "input": [
      "import matplotlib.pyplot as plt"
     ],
     "language": "python",
     "metadata": {},
     "outputs": [],
     "prompt_number": 166
    },
    {
     "cell_type": "code",
     "collapsed": false,
     "input": [
      "%matplotlib inline\n",
      "result.drop('strain',axis=1).drop('non-existent',axis=1).sum().plot(kind='bar',logy=True)"
     ],
     "language": "python",
     "metadata": {},
     "outputs": [
      {
       "metadata": {},
       "output_type": "pyout",
       "prompt_number": 201,
       "text": [
        "<matplotlib.axes.AxesSubplot at 0x5a7ca490>"
       ]
      },
      {
       "metadata": {},
       "output_type": "display_data",
       "png": "[encoded data removed]",
       "text": [
        "<matplotlib.figure.Figure at 0x5a7dea10>"
       ]
      }
     ],
     "prompt_number": 201
    },
    {
     "cell_type": "code",
     "collapsed": false,
     "input": [
      "t = pd.DataFrame(columns=list(pd.unique(nodes[\"rank\"])) + [\"strain\"])\n",
      "t[\"strain\"][1] = 5\n",
      "t[\"strain\"]"
     ],
     "language": "python",
     "metadata": {},
     "outputs": [
      {
       "ename": "IndexError",
       "evalue": "index 1 is out of bounds for axis 0 with size 0",
       "output_type": "pyerr",
       "traceback": [
        "\u001b[1;31m---------------------------------------------------------------------------\u001b[0m\n\u001b[1;31mIndexError\u001b[0m                                Traceback (most recent call last)",
        "\u001b[1;32m<ipython-input-117-03cc70d45b15>\u001b[0m in \u001b[0;36m<module>\u001b[1;34m()\u001b[0m\n\u001b[0;32m      1\u001b[0m \u001b[0mt\u001b[0m \u001b[1;33m=\u001b[0m \u001b[0mpd\u001b[0m\u001b[1;33m.\u001b[0m\u001b[0mDataFrame\u001b[0m\u001b[1;33m(\u001b[0m\u001b[0mcolumns\u001b[0m\u001b[1;33m=\u001b[0m\u001b[0mlist\u001b[0m\u001b[1;33m(\u001b[0m\u001b[0mpd\u001b[0m\u001b[1;33m.\u001b[0m\u001b[0munique\u001b[0m\u001b[1;33m(\u001b[0m\u001b[0mnodes\u001b[0m\u001b[1;33m[\u001b[0m\u001b[1;34m\"rank\"\u001b[0m\u001b[1;33m]\u001b[0m\u001b[1;33m)\u001b[0m\u001b[1;33m)\u001b[0m \u001b[1;33m+\u001b[0m \u001b[1;33m[\u001b[0m\u001b[1;34m\"strain\"\u001b[0m\u001b[1;33m]\u001b[0m\u001b[1;33m)\u001b[0m\u001b[1;33m\u001b[0m\u001b[0m\n\u001b[1;32m----> 2\u001b[1;33m \u001b[0mt\u001b[0m\u001b[1;33m[\u001b[0m\u001b[1;34m\"strain\"\u001b[0m\u001b[1;33m]\u001b[0m\u001b[1;33m[\u001b[0m\u001b[1;36m1\u001b[0m\u001b[1;33m]\u001b[0m \u001b[1;33m=\u001b[0m \u001b[1;36m5\u001b[0m\u001b[1;33m\u001b[0m\u001b[0m\n\u001b[0m\u001b[0;32m      3\u001b[0m \u001b[0mt\u001b[0m\u001b[1;33m[\u001b[0m\u001b[1;34m\"strain\"\u001b[0m\u001b[1;33m]\u001b[0m\u001b[1;33m\u001b[0m\u001b[0m\n",
        "\u001b[1;32m/home/idb/virtual-environments/py27-env/local/lib/python2.7/site-packages/pandas/core/series.pyc\u001b[0m in \u001b[0;36m__setitem__\u001b[1;34m(self, key, value)\u001b[0m\n\u001b[0;32m    600\u001b[0m                     and not self.index.inferred_type == 'integer'):\n\u001b[0;32m    601\u001b[0m \u001b[1;33m\u001b[0m\u001b[0m\n\u001b[1;32m--> 602\u001b[1;33m                 \u001b[0mvalues\u001b[0m\u001b[1;33m[\u001b[0m\u001b[0mkey\u001b[0m\u001b[1;33m]\u001b[0m \u001b[1;33m=\u001b[0m \u001b[0mvalue\u001b[0m\u001b[1;33m\u001b[0m\u001b[0m\n\u001b[0m\u001b[0;32m    603\u001b[0m                 \u001b[1;32mreturn\u001b[0m\u001b[1;33m\u001b[0m\u001b[0m\n\u001b[0;32m    604\u001b[0m             \u001b[1;32melif\u001b[0m \u001b[0mkey\u001b[0m \u001b[1;32mis\u001b[0m \u001b[0mEllipsis\u001b[0m\u001b[1;33m:\u001b[0m\u001b[1;33m\u001b[0m\u001b[0m\n",
        "\u001b[1;31mIndexError\u001b[0m: index 1 is out of bounds for axis 0 with size 0"
       ]
      }
     ],
     "prompt_number": 117
    },
    {
     "cell_type": "code",
     "collapsed": false,
     "input": [
      "pd.DataFrame([(0,0,0,0,0)], columns=['strain','uknowit','ugotit','loveit','5'])"
     ],
     "language": "python",
     "metadata": {},
     "outputs": [
      {
       "html": [
        "<div style=\"max-height:1000px;max-width:1500px;overflow:auto;\">\n",
        "<table border=\"1\" class=\"dataframe\">\n",
        "  <thead>\n",
        "    <tr style=\"text-align: right;\">\n",
        "      <th></th>\n",
        "      <th>strain</th>\n",
        "      <th>uknowit</th>\n",
        "      <th>ugotit</th>\n",
        "      <th>loveit</th>\n",
        "      <th>5</th>\n",
        "    </tr>\n",
        "  </thead>\n",
        "  <tbody>\n",
        "    <tr>\n",
        "      <th>0</th>\n",
        "      <td> 0</td>\n",
        "      <td> 0</td>\n",
        "      <td> 0</td>\n",
        "      <td> 0</td>\n",
        "      <td> 0</td>\n",
        "    </tr>\n",
        "  </tbody>\n",
        "</table>\n",
        "<p>1 rows \u00d7 5 columns</p>\n",
        "</div>"
       ],
       "metadata": {},
       "output_type": "pyout",
       "prompt_number": 123,
       "text": [
        "   strain  uknowit  ugotit  loveit  5\n",
        "0       0        0       0       0  0\n",
        "\n",
        "[1 rows x 5 columns]"
       ]
      }
     ],
     "prompt_number": 123
    },
    {
     "cell_type": "code",
     "collapsed": false,
     "input": [
      "pd.DataFrame([(1,)], index=['strain',])"
     ],
     "language": "python",
     "metadata": {},
     "outputs": [
      {
       "html": [
        "<div style=\"max-height:1000px;max-width:1500px;overflow:auto;\">\n",
        "<table border=\"1\" class=\"dataframe\">\n",
        "  <thead>\n",
        "    <tr style=\"text-align: right;\">\n",
        "      <th></th>\n",
        "      <th>0</th>\n",
        "    </tr>\n",
        "  </thead>\n",
        "  <tbody>\n",
        "    <tr>\n",
        "      <th>strain</th>\n",
        "      <td> 1</td>\n",
        "    </tr>\n",
        "  </tbody>\n",
        "</table>\n",
        "<p>1 rows \u00d7 1 columns</p>\n",
        "</div>"
       ],
       "metadata": {},
       "output_type": "pyout",
       "prompt_number": 130,
       "text": [
        "        0\n",
        "strain  1\n",
        "\n",
        "[1 rows x 1 columns]"
       ]
      }
     ],
     "prompt_number": 130
    },
    {
     "cell_type": "code",
     "collapsed": false,
     "input": [
      "nodes[nodes.tax_id ==  297266][\"rank\"]"
     ],
     "language": "python",
     "metadata": {},
     "outputs": [
      {
       "metadata": {},
       "output_type": "pyout",
       "prompt_number": 141,
       "text": [
        "248031    species\n",
        "Name: rank, dtype: object"
       ]
      }
     ],
     "prompt_number": 141
    },
    {
     "cell_type": "code",
     "collapsed": false,
     "input": [
      "pd.Series([0],index=['strain'])"
     ],
     "language": "python",
     "metadata": {},
     "outputs": [
      {
       "metadata": {},
       "output_type": "pyout",
       "prompt_number": 142,
       "text": [
        "strain    0\n",
        "dtype: int64"
       ]
      }
     ],
     "prompt_number": 142
    },
    {
     "cell_type": "code",
     "collapsed": false,
     "input": [
      "pd.Series({\"ola\":5,\"fa\":6})"
     ],
     "language": "python",
     "metadata": {},
     "outputs": [
      {
       "metadata": {},
       "output_type": "pyout",
       "prompt_number": 146,
       "text": [
        "fa     6\n",
        "ola    5\n",
        "dtype: int64"
       ]
      }
     ],
     "prompt_number": 146
    },
    {
     "cell_type": "code",
     "collapsed": false,
     "input": [
      "{c:0 for c in [\"ola\"]}"
     ],
     "language": "python",
     "metadata": {},
     "outputs": [
      {
       "metadata": {},
       "output_type": "pyout",
       "prompt_number": 147,
       "text": [
        "{'ola': 0}"
       ]
      }
     ],
     "prompt_number": 147
    },
    {
     "cell_type": "code",
     "collapsed": false,
     "input": [
      "{\"ola\":5,\"ola\":6}"
     ],
     "language": "python",
     "metadata": {},
     "outputs": [
      {
       "metadata": {},
       "output_type": "pyout",
       "prompt_number": 148,
       "text": [
        "{'ola': 6}"
       ]
      }
     ],
     "prompt_number": 148
    },
    {
     "cell_type": "code",
     "collapsed": false,
     "input": [
      "list([], [\"ola\"])"
     ],
     "language": "python",
     "metadata": {},
     "outputs": [
      {
       "ename": "TypeError",
       "evalue": "list() takes at most 1 argument (2 given)",
       "output_type": "pyerr",
       "traceback": [
        "\u001b[1;31m---------------------------------------------------------------------------\u001b[0m\n\u001b[1;31mTypeError\u001b[0m                                 Traceback (most recent call last)",
        "\u001b[1;32m<ipython-input-159-6cc6ed517b13>\u001b[0m in \u001b[0;36m<module>\u001b[1;34m()\u001b[0m\n\u001b[1;32m----> 1\u001b[1;33m \u001b[0mlist\u001b[0m\u001b[1;33m(\u001b[0m\u001b[1;33m[\u001b[0m\u001b[1;33m]\u001b[0m\u001b[1;33m,\u001b[0m \u001b[1;33m[\u001b[0m\u001b[1;34m\"ola\"\u001b[0m\u001b[1;33m]\u001b[0m\u001b[1;33m)\u001b[0m\u001b[1;33m\u001b[0m\u001b[0m\n\u001b[0m",
        "\u001b[1;31mTypeError\u001b[0m: list() takes at most 1 argument (2 given)"
       ]
      }
     ],
     "prompt_number": 159
    },
    {
     "cell_type": "code",
     "collapsed": false,
     "input": [],
     "language": "python",
     "metadata": {},
     "outputs": []
    }
   ],
   "metadata": {}
  }
 ]
}